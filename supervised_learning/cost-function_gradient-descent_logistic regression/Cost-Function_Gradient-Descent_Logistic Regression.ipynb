
{
 "cells": [
  {
   "cell_type": "markdown",
   "id": "30e13a81",
   "metadata": {},
   "source": [
    "## Cost Function for Logistic Regression"
   ]
  },
  {
   "cell_type": "code",
   "execution_count": 45,
   "id": "51262bdd",
   "metadata": {},
   "outputs": [],
   "source": [
    "import numpy as np\n",
    "import matplotlib.pyplot as plt\n",
    "import copy,math"
   ]
  },
  {
   "cell_type": "code",
   "execution_count": 2,
   "id": "f594cd19",
   "metadata": {},
   "outputs": [],
   "source": [
    "x_train=np.array([[0.5, 1.5], [1,1], [1.5, 0.5], [3, 0.5], [2, 2], [1, 2.5]])\n",
    "y_train=np.array(([0, 0, 0, 1, 1, 1]))\n",
    "pos=y_train==1\n",
    "neg=y_train==0"
   ]
  },
  {
   "cell_type": "code",
   "execution_count": 10,
   "id": "87d77e72",
   "metadata": {},
   "outputs": [
    {
     "data": {
      "text/plain": [
       "<matplotlib.collections.PathCollection at 0x1870862ff10>"
      ]
     },
     "execution_count": 10,
     "metadata": {},
     "output_type": "execute_result"
    },
    {
     "data": {
      "image/png": "[encoded data removed]",
      "text/plain": [
       "<Figure size 600x600 with 1 Axes>"
      ]
     },
     "metadata": {},
     "output_type": "display_data"
    }
   ],
   "source": [
    "fig,ax=plt.subplots(1,1,figsize=(6,6))\n",
    "ax.scatter(x_train[pos,0],x_train[pos,1],marker='x',c='r'),\n",
    "ax.scatter(x_train[neg,0],x_train[neg,1],marker=\"o\",c='b')\n",
    "\n"
   ]
  },
  {
   "cell_type": "code",
   "execution_count": 206,
   "id": "5b388ca7",
   "metadata": {},
   "outputs": [],
   "source": [
    "x_train=np.array([[0.5, 1.5], [1,1], [1.5, 0.5], [3, 0.5], [2, 2], [1, 2.5]])\n",
    "y_train=np.array(([0, 0, 0, 1, 1, 1])).reshape(-1,1)\n",
    "#logistci regression \n",
    "\n",
    "def sigmoid_function(z):\n",
    "    logistic = 1 / (1 + np.exp(-z))\n",
    "        \n",
    "    return logistic\n",
    "\n",
    "\n",
    "def logistic_cost_function(x,y,w,b):\n",
    "    m=x.shape[0]\n",
    "    f_wb=np.zeros((m,))\n",
    "    logistic=np.zeros((m))\n",
    "    cost=0\n",
    "    for j in range(m):\n",
    "        f_wb[j]=np.dot(x[j],w)+b\n",
    "        logistic=sigmoid_function(f_wb[j])\n",
    "        cost+=-y[j]*np.log(logistic)-(1-y[j])*np.log(1-logistic)\n",
    "    cost=cost/m\n",
    "    return cost\n",
    "w = np.array([1, 1])\n",
    "b=-3\n",
    "logistic_cost=logistic_cost_function(x_train,y_train,w,b)"
   ]
  },
  {
   "cell_type": "markdown",
   "id": "87f44cf2",
   "metadata": {},
   "source": [
    "- This above value is the difference between actual value and model prediction value using the cost function equation."
   ]
  },
  {
   "cell_type": "markdown",
   "id": "5688ff01",
   "metadata": {},
   "source": [
    "## Gradient Descent For Logistic Regression"
   ]
  },
  {
   "cell_type": "code",
   "execution_count": 207,
   "id": "e156dbb8",
   "metadata": {},
   "outputs": [
    {
     "name": "stdout",
     "output_type": "stream",
     "text": [
      "[5.28976498 5.08670859] [-14.24600215]\n"
     ]
    }
   ],
   "source": [
    "def sigmoid_function(z):\n",
    "    logistic = 1 / (1 + np.exp(-z))\n",
    "    return logistic\n",
    "\n",
    "def compute_gradient_logistic(X, y, w, b): \n",
    "   \n",
    "    m,n = X.shape\n",
    "    dj_dw = np.zeros((n,))                         \n",
    "    dj_db = 0.\n",
    "\n",
    "    for i in range(m):\n",
    "        f_wb_i = sigmoid_function(np.dot(X[i],w) + b   )    \n",
    "        err_i  = f_wb_i  - y[i]\n",
    "        for j in range(n):\n",
    "            dj_dw[j] = dj_dw[j] + err_i * X[i,j]\n",
    "        dj_db = dj_db + err_i\n",
    "    dj_dw = dj_dw/m\n",
    "    dj_db = dj_db/m\n",
    "        \n",
    "    return dj_db, dj_dw  \n",
    "\n",
    "def gradient_descent(X, y, w_in, b_in, alpha, num_iters): \n",
    "   \n",
    "    w = copy.deepcopy(w_in)  \n",
    "    b = b_in\n",
    "    \n",
    "    for i in range(num_iters):\n",
    "        dj_db, dj_dw = compute_gradient_logistic(X, y, w, b)   \n",
    "\n",
    "        w = w - alpha * dj_dw               \n",
    "        b = b - alpha * dj_db    \n",
    "#         print(w,b)\n",
    "      \n",
    "        \n",
    "        \n",
    "    return w, b       \n",
    "\n",
    "w_tmp = np.array([2.,3.])\n",
    "b_tmp = 1.\n",
    "\n",
    "alph = 0.1\n",
    "iters = 10000\n",
    "\n",
    "w_final, b_final = gradient_descent(x_train, y_train, w_tmp, b_tmp, alph, iters) \n",
    "print(w_final,b_final)\n"
   ]
  },
  {
   "cell_type": "markdown",
   "id": "b953f7b0",
   "metadata": {},
   "source": [
    "## Logistic Regression Using sklearn"
   ]
  },
  {
   "cell_type": "code",
   "execution_count": 208,
   "id": "896cc4dc",
   "metadata": {},
   "outputs": [],
   "source": [
    "x_train=np.array([[0.5, 1.5], [1,1], [1.5, 0.5], [3, 0.5], [2, 2], [1, 2.5]])\n",
    "y_train=np.array(([0, 0, 0, 1, 1, 1])).ravel()\n",
    "\n",
    "from sklearn.linear_model import LogisticRegression\n",
    "\n",
    "lr=LogisticRegression()"
   ]
  },
  {
   "cell_type": "code",
   "execution_count": 209,
   "id": "5403a3fd",
   "metadata": {},
   "outputs": [],
   "source": [
    "lr.fit(x_train,y_train)\n",
    "w=lr.coef_\n",
    "b=lr.intercept_"
   ]
  },
  {
   "cell_type": "code",
   "execution_count": 210,
   "id": "0cea5c1e",
   "metadata": {},
   "outputs": [],
   "source": [
    "model_prediction=lr.predict(x_train)"
   ]
  },
  {
   "cell_type": "code",
   "execution_count": 211,
   "id": "27c2d842",
   "metadata": {},
   "outputs": [
    {
     "data": {
      "text/plain": [
       "array([0, 0, 0, 1, 1, 1])"
      ]
     },
     "execution_count": 211,
     "metadata": {},
     "output_type": "execute_result"
    }
   ],
   "source": [
    "model_prediction"
   ]
  }
 ],
 "metadata": {
  "kernelspec": {
   "display_name": "Python 3 (ipykernel)",
   "language": "python",
   "name": "python3"
  },
  "language_info": {
   "codemirror_mode": {
    "name": "ipython",
    "version": 3
   },
   "file_extension": ".py",
   "mimetype": "text/x-python",
   "name": "python",
   "nbconvert_exporter": "python",
   "pygments_lexer": "ipython3",
   "version": "3.9.13"
  }
 },
 "nbformat": 4,
 "nbformat_minor": 5
}
