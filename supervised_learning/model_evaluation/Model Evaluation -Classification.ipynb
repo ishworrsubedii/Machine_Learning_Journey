{
 "cells": [
  {
   "cell_type": "markdown",
   "id": "c4ce8222",
   "metadata": {},
   "source": [
    "# Classification(Sigmoid-Neural Network)"
   ]
  },
  {
   "cell_type": "code",
   "execution_count": 2,
   "id": "841b6630",
   "metadata": {},
   "outputs": [],
   "source": [
    "import pandas as pd\n",
    "import numpy as np\n",
    "import matplotlib.pyplot as plt\n",
    "import seaborn as sns\n",
    "from sklearn.model_selection import train_test_split\n",
    "from sklearn.preprocessing import StandardScaler,PolynomialFeatures\n",
    "import tensorflow as tf"
   ]
  },
  {
   "cell_type": "code",
   "execution_count": 3,
   "id": "e9f32da4",
   "metadata": {},
   "outputs": [],
   "source": [
    "dataset=pd.read_csv('data_w3_ex2.csv')"
   ]
  },
  {
   "cell_type": "code",
   "execution_count": 4,
   "id": "6e3983fb",
   "metadata": {},
   "outputs": [
    {
     "data": {
      "text/html": [
       "<div>\n",
       "<style scoped>\n",
       "    .dataframe tbody tr th:only-of-type {\n",
       "        vertical-align: middle;\n",
       "    }\n",
       "\n",
       "    .dataframe tbody tr th {\n",
       "        vertical-align: top;\n",
       "    }\n",
       "\n",
       "    .dataframe thead th {\n",
       "        text-align: right;\n",
       "    }\n",
       "</style>\n",
       "<table border=\"1\" class=\"dataframe\">\n",
       "  <thead>\n",
       "    <tr style=\"text-align: right;\">\n",
       "      <th></th>\n",
       "      <th>1</th>\n",
       "      <th>2</th>\n",
       "      <th>3</th>\n",
       "    </tr>\n",
       "  </thead>\n",
       "  <tbody>\n",
       "    <tr>\n",
       "      <th>0</th>\n",
       "      <td>1000.0</td>\n",
       "      <td>1460.0</td>\n",
       "      <td>0.0</td>\n",
       "    </tr>\n",
       "    <tr>\n",
       "      <th>1</th>\n",
       "      <td>1050.0</td>\n",
       "      <td>1010.0</td>\n",
       "      <td>0.0</td>\n",
       "    </tr>\n",
       "    <tr>\n",
       "      <th>2</th>\n",
       "      <td>1090.0</td>\n",
       "      <td>854.0</td>\n",
       "      <td>0.0</td>\n",
       "    </tr>\n",
       "    <tr>\n",
       "      <th>3</th>\n",
       "      <td>1140.0</td>\n",
       "      <td>2560.0</td>\n",
       "      <td>0.0</td>\n",
       "    </tr>\n",
       "    <tr>\n",
       "      <th>4</th>\n",
       "      <td>1180.0</td>\n",
       "      <td>4620.0</td>\n",
       "      <td>0.0</td>\n",
       "    </tr>\n",
       "    <tr>\n",
       "      <th>...</th>\n",
       "      <td>...</td>\n",
       "      <td>...</td>\n",
       "      <td>...</td>\n",
       "    </tr>\n",
       "    <tr>\n",
       "      <th>195</th>\n",
       "      <td>9820.0</td>\n",
       "      <td>3340.0</td>\n",
       "      <td>1.0</td>\n",
       "    </tr>\n",
       "    <tr>\n",
       "      <th>196</th>\n",
       "      <td>9860.0</td>\n",
       "      <td>3440.0</td>\n",
       "      <td>1.0</td>\n",
       "    </tr>\n",
       "    <tr>\n",
       "      <th>197</th>\n",
       "      <td>9910.0</td>\n",
       "      <td>1810.0</td>\n",
       "      <td>1.0</td>\n",
       "    </tr>\n",
       "    <tr>\n",
       "      <th>198</th>\n",
       "      <td>9950.0</td>\n",
       "      <td>3520.0</td>\n",
       "      <td>1.0</td>\n",
       "    </tr>\n",
       "    <tr>\n",
       "      <th>199</th>\n",
       "      <td>10000.0</td>\n",
       "      <td>930.0</td>\n",
       "      <td>1.0</td>\n",
       "    </tr>\n",
       "  </tbody>\n",
       "</table>\n",
       "<p>200 rows × 3 columns</p>\n",
       "</div>"
      ],
      "text/plain": [
       "           1       2    3\n",
       "0     1000.0  1460.0  0.0\n",
       "1     1050.0  1010.0  0.0\n",
       "2     1090.0   854.0  0.0\n",
       "3     1140.0  2560.0  0.0\n",
       "4     1180.0  4620.0  0.0\n",
       "..       ...     ...  ...\n",
       "195   9820.0  3340.0  1.0\n",
       "196   9860.0  3440.0  1.0\n",
       "197   9910.0  1810.0  1.0\n",
       "198   9950.0  3520.0  1.0\n",
       "199  10000.0   930.0  1.0\n",
       "\n",
       "[200 rows x 3 columns]"
      ]
     },
     "execution_count": 4,
     "metadata": {},
     "output_type": "execute_result"
    }
   ],
   "source": [
    "dataset"
   ]
  },
  {
   "cell_type": "code",
   "execution_count": 5,
   "id": "1f7b0d9b",
   "metadata": {},
   "outputs": [],
   "source": [
    "x= dataset.iloc[:, [0, 1]].values\n",
    "y=dataset.iloc[:,[2]].values\n",
    "\n"
   ]
  },
  {
   "cell_type": "code",
   "execution_count": 6,
   "id": "a4c80f8a",
   "metadata": {},
   "outputs": [
    {
     "name": "stdout",
     "output_type": "stream",
     "text": [
      "x_train (120, 2)\n",
      "y_train (120, 1)\n",
      "x_test (40, 2)\n",
      "y_test (40, 1)\n",
      "x_cv (40, 2)\n",
      "y_cv (40, 1)\n"
     ]
    }
   ],
   "source": [
    "x_train,x_,y_train,y_=train_test_split(x,y,test_size=0.4,random_state=1)\n",
    "x_cv,x_test,y_cv,y_test=train_test_split(x_,y_,test_size=0.5,random_state=1)\n",
    "print('x_train',x_train.shape)\n",
    "print('y_train',y_train.shape)\n",
    "print('x_test',x_test.shape)\n",
    "print('y_test',y_test.shape)\n",
    "print('x_cv',x_cv.shape)\n",
    "print('y_cv',y_cv.shape)"
   ]
  },
  {
   "cell_type": "code",
   "execution_count": null,
   "id": "1d29266b",
   "metadata": {},
   "outputs": [],
   "source": []
  },
  {
   "cell_type": "code",
   "execution_count": 23,
   "id": "d1b3a50c",
   "metadata": {},
   "outputs": [],
   "source": [
    "import tensorflow as tf\n",
    "from tensorflow.keras.models import Sequential\n",
    "from tensorflow.keras.layers import Dense\n",
    "from tensorflow.keras.losses import MeanSquaredError\n",
    "\n",
    "\n",
    "def neural_network_function():\n",
    "    tf.random.set_seed(20)# Random state\n",
    "    model_1=Sequential([\n",
    "        Dense(units=25,activation='relu'),\n",
    "        Dense(units=15,activation='relu'),\n",
    "        Dense(units=1,activation='sigmoid')\n",
    "\n",
    "\n",
    "    ],name='model_1')\n",
    "    \n",
    "    model_2=Sequential([\n",
    "        Dense(units=20,activation='relu'),\n",
    "        Dense(units=12,activation='relu'),\n",
    "        Dense(units=12,activation='relu'),\n",
    "        Dense(units=20,activation='relu'),\n",
    "\n",
    "\n",
    "        Dense(units=1,activation='sigmoid')\n",
    "        \n",
    "        \n",
    "    ],name='model_2')\n",
    "    \n",
    "    model_3=Sequential([\n",
    "        Dense(units=32,activation='relu'),\n",
    "        Dense(units=16,activation='relu'),\n",
    "        Dense(units=8,activation='relu'),\n",
    "        Dense(units=4,activation='relu'),\n",
    "        Dense(units=12,activation='relu'),\n",
    "\n",
    "\n",
    "\n",
    "        Dense(units=1,activation='sigmoid')\n",
    "    ],name='model_3')\n",
    "    \n",
    "    model_list=[model_1,model_2,model_3]\n",
    "                     \n",
    "    return model_list\n",
    "\n",
    "model_list=neural_network_function()"
   ]
  },
  {
   "cell_type": "code",
   "execution_count": 24,
   "id": "32e21dde",
   "metadata": {},
   "outputs": [
    {
     "name": "stdout",
     "output_type": "stream",
     "text": [
      "Training model_1...\n",
      "Done!\n",
      "\n",
      "4/4 [==============================] - 0s 1ms/step\n",
      "2/2 [==============================] - 0s 2ms/step\n",
      "Training model_2...\n",
      "Done!\n",
      "\n",
      "4/4 [==============================] - 0s 1ms/step\n",
      "2/2 [==============================] - 0s 2ms/step\n",
      "Training model_3...\n",
      "Done!\n",
      "\n",
      "4/4 [==============================] - 0s 1ms/step\n",
      "2/2 [==============================] - 0s 2ms/step\n"
     ]
    }
   ],
   "source": [
    "neural_cv_error=[]\n",
    "neural_train_error=[]\n",
    "for model in model_list:\n",
    "    \n",
    "    model.compile(\n",
    "    loss=tf.keras.losses.BinaryCrossentropy(from_logits=True),\n",
    "    optimizer=tf.keras.optimizers.Adam(learning_rate=0.01),\n",
    "    )\n",
    "\n",
    "    print(f\"Training {model.name}...\")\n",
    "\n",
    "    # Train the model\n",
    "    model.fit(\n",
    "        x_train, y_train,\n",
    "        epochs=200,\n",
    "        verbose=0\n",
    "    )\n",
    "    \n",
    "    print(\"Done!\\n\")\n",
    "    threshold = 0.5\n",
    "    \n",
    "    yhat = model.predict(x_train)\n",
    "    loss=tf.keras.losses.binary_crossentropy\n",
    "    train_loss=loss(y_train,yhat)\n",
    "    train_error=np.mean(train_loss)\n",
    "    neural_train_error.append(train_error)\n",
    "    \n",
    "    y_hat=model.predict(x_cv)\n",
    "    cv_loss=loss(y_cv,y_hat)\n",
    "    cv_error=np.mean(cv_loss)\n",
    "    neural_cv_error.append(cv_error)\n",
    "    \n",
    "\n"
   ]
  },
  {
   "cell_type": "code",
   "execution_count": 25,
   "id": "c39c82b2",
   "metadata": {},
   "outputs": [
    {
     "name": "stdout",
     "output_type": "stream",
     "text": [
      "1 1\n"
     ]
    }
   ],
   "source": [
    "cv_min=min(neural_cv_error)\n",
    "cv_index=neural_cv_error.index(cv_min)\n",
    "\n",
    "train_min=min(neural_train_error)\n",
    "train_index=neural_train_error.index(train_min)\n",
    "print(cv_index,train_index)"
   ]
  },
  {
   "cell_type": "code",
   "execution_count": 26,
   "id": "21f79d9f",
   "metadata": {},
   "outputs": [
    {
     "data": {
      "text/plain": [
       "[0.3807786, 0.21066098, 0.42709455]"
      ]
     },
     "execution_count": 26,
     "metadata": {},
     "output_type": "execute_result"
    }
   ],
   "source": [
    "neural_cv_error"
   ]
  },
  {
   "cell_type": "code",
   "execution_count": 27,
   "id": "d08b4e7b",
   "metadata": {},
   "outputs": [
    {
     "data": {
      "text/plain": [
       "[0.36798236, 0.27802888, 0.49920407]"
      ]
     },
     "execution_count": 27,
     "metadata": {},
     "output_type": "execute_result"
    }
   ],
   "source": [
    "neural_train_error"
   ]
  },
  {
   "cell_type": "markdown",
   "id": "55fd3484",
   "metadata": {},
   "source": [
    "### Here we will choose model 2 for further more"
   ]
  },
  {
   "cell_type": "code",
   "execution_count": 29,
   "id": "7d048492",
   "metadata": {},
   "outputs": [
    {
     "name": "stdout",
     "output_type": "stream",
     "text": [
      "2/2 [==============================] - 0s 2ms/step\n"
     ]
    }
   ],
   "source": [
    "model_num=3\n",
    "loss=tf.keras.losses.binary_crossentropy\n",
    "\n",
    "\n",
    "y_prediction=model_list[model_num-2].predict(x_test)\n",
    "test_e=loss(y_test,y_prediction)\n",
    "test_error=np.mean(test_e)"
   ]
  },
  {
   "cell_type": "code",
   "execution_count": 30,
   "id": "fd7c109a",
   "metadata": {},
   "outputs": [
    {
     "name": "stdout",
     "output_type": "stream",
     "text": [
      "\n",
      "Selected Model: 2\n",
      "Training MSE: 0.2780288755893707\n",
      "Cross Validation MSE: 0.21066097915172577\n",
      "Test MSE: 0.19573086500167847\n",
      "\n",
      "\n",
      "\n"
     ]
    }
   ],
   "source": [
    "print(f'''\n",
    "Selected Model: {cv_index+1}\n",
    "Training MSE: {train_min}\n",
    "Cross Validation MSE: {cv_min}\n",
    "Test MSE: {test_error}\n",
    "\n",
    "\n",
    "''')"
   ]
  }
 ],
 "metadata": {
  "kernelspec": {
   "display_name": "Python 3 (ipykernel)",
   "language": "python",
   "name": "python3"
  },
  "language_info": {
   "codemirror_mode": {
    "name": "ipython",
    "version": 3
   },
   "file_extension": ".py",
   "mimetype": "text/x-python",
   "name": "python",
   "nbconvert_exporter": "python",
   "pygments_lexer": "ipython3",
   "version": "3.9.13"
  }
 },
 "nbformat": 4,
 "nbformat_minor": 5
}
