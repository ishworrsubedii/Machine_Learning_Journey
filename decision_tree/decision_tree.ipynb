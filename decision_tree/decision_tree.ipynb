{
 "cells": [
  {
   "cell_type": "markdown",
   "id": "267bcb28-b3a3-4df3-be15-5e4edb2466d2",
   "metadata": {},
   "source": [
    "# Decision Tree"
   ]
  },
  {
   "cell_type": "markdown",
   "id": "67fa4445-1c44-4f73-bc8f-d52f89047ec8",
   "metadata": {},
   "source": [
    "### Overall process of building decision tree"
   ]
  },
  {
   "cell_type": "markdown",
   "id": "afff2379-b273-42ef-adb4-370ad959159c",
   "metadata": {},
   "source": [
    "### Measuring Purity"
   ]
  },
  {
   "cell_type": "markdown",
   "id": "a70fd2ac-eb63-4688-93e7-9484b2669b69",
   "metadata": {},
   "source": [
    "### Information Gain"
   ]
  },
  {
   "cell_type": "markdown",
   "id": "0d88f884-23b3-4480-bf29-ade78051caaf",
   "metadata": {
    "tags": []
   },
   "source": [
    "# Data Prep and Decision Tree Algo"
   ]
  },
  {
   "cell_type": "code",
   "execution_count": 68,
   "id": "b572af6f-07cd-481d-9531-08d136f6fe5a",
   "metadata": {
    "tags": []
   },
   "outputs": [],
   "source": [
    "import pandas as pd\n",
    "import numpy as np\n",
    "import matplotlib.pyplot as plt\n",
    "from sklearn.preprocessing import OneHotEncoder,LabelEncoder"
   ]
  },
  {
   "cell_type": "code",
   "execution_count": 69,
   "id": "e9779ad2-d8ad-42b0-ae8f-6b03e95b2548",
   "metadata": {
    "tags": []
   },
   "outputs": [],
   "source": [
    "dataset=pd.read_csv(\"decision_tree/dataset/drug200.csv\")"
   ]
  },
  {
   "cell_type": "code",
   "execution_count": 70,
   "id": "dc1fe970-6fea-41b6-829d-742fd775156b",
   "metadata": {
    "tags": []
   },
   "outputs": [
    {
     "data": {
      "text/html": [
       "<div>\n",
       "<style scoped>\n",
       "    .dataframe tbody tr th:only-of-type {\n",
       "        vertical-align: middle;\n",
       "    }\n",
       "\n",
       "    .dataframe tbody tr th {\n",
       "        vertical-align: top;\n",
       "    }\n",
       "\n",
       "    .dataframe thead th {\n",
       "        text-align: right;\n",
       "    }\n",
       "</style>\n",
       "<table border=\"1\" class=\"dataframe\">\n",
       "  <thead>\n",
       "    <tr style=\"text-align: right;\">\n",
       "      <th></th>\n",
       "      <th>Age</th>\n",
       "      <th>Sex</th>\n",
       "      <th>BP</th>\n",
       "      <th>Cholesterol</th>\n",
       "      <th>Na_to_K</th>\n",
       "      <th>Drug</th>\n",
       "    </tr>\n",
       "  </thead>\n",
       "  <tbody>\n",
       "    <tr>\n",
       "      <th>0</th>\n",
       "      <td>23</td>\n",
       "      <td>F</td>\n",
       "      <td>HIGH</td>\n",
       "      <td>HIGH</td>\n",
       "      <td>25.355</td>\n",
       "      <td>drugY</td>\n",
       "    </tr>\n",
       "    <tr>\n",
       "      <th>1</th>\n",
       "      <td>47</td>\n",
       "      <td>M</td>\n",
       "      <td>LOW</td>\n",
       "      <td>HIGH</td>\n",
       "      <td>13.093</td>\n",
       "      <td>drugC</td>\n",
       "    </tr>\n",
       "    <tr>\n",
       "      <th>2</th>\n",
       "      <td>47</td>\n",
       "      <td>M</td>\n",
       "      <td>LOW</td>\n",
       "      <td>HIGH</td>\n",
       "      <td>10.114</td>\n",
       "      <td>drugC</td>\n",
       "    </tr>\n",
       "    <tr>\n",
       "      <th>3</th>\n",
       "      <td>28</td>\n",
       "      <td>F</td>\n",
       "      <td>NORMAL</td>\n",
       "      <td>HIGH</td>\n",
       "      <td>7.798</td>\n",
       "      <td>drugX</td>\n",
       "    </tr>\n",
       "    <tr>\n",
       "      <th>4</th>\n",
       "      <td>61</td>\n",
       "      <td>F</td>\n",
       "      <td>LOW</td>\n",
       "      <td>HIGH</td>\n",
       "      <td>18.043</td>\n",
       "      <td>drugY</td>\n",
       "    </tr>\n",
       "    <tr>\n",
       "      <th>5</th>\n",
       "      <td>22</td>\n",
       "      <td>F</td>\n",
       "      <td>NORMAL</td>\n",
       "      <td>HIGH</td>\n",
       "      <td>8.607</td>\n",
       "      <td>drugX</td>\n",
       "    </tr>\n",
       "    <tr>\n",
       "      <th>6</th>\n",
       "      <td>49</td>\n",
       "      <td>F</td>\n",
       "      <td>NORMAL</td>\n",
       "      <td>HIGH</td>\n",
       "      <td>16.275</td>\n",
       "      <td>drugY</td>\n",
       "    </tr>\n",
       "    <tr>\n",
       "      <th>7</th>\n",
       "      <td>41</td>\n",
       "      <td>M</td>\n",
       "      <td>LOW</td>\n",
       "      <td>HIGH</td>\n",
       "      <td>11.037</td>\n",
       "      <td>drugC</td>\n",
       "    </tr>\n",
       "    <tr>\n",
       "      <th>8</th>\n",
       "      <td>60</td>\n",
       "      <td>M</td>\n",
       "      <td>NORMAL</td>\n",
       "      <td>HIGH</td>\n",
       "      <td>15.171</td>\n",
       "      <td>drugY</td>\n",
       "    </tr>\n",
       "    <tr>\n",
       "      <th>9</th>\n",
       "      <td>43</td>\n",
       "      <td>M</td>\n",
       "      <td>LOW</td>\n",
       "      <td>NORMAL</td>\n",
       "      <td>19.368</td>\n",
       "      <td>drugY</td>\n",
       "    </tr>\n",
       "  </tbody>\n",
       "</table>\n",
       "</div>"
      ],
      "text/plain": [
       "   Age Sex      BP Cholesterol  Na_to_K   Drug\n",
       "0   23   F    HIGH        HIGH   25.355  drugY\n",
       "1   47   M     LOW        HIGH   13.093  drugC\n",
       "2   47   M     LOW        HIGH   10.114  drugC\n",
       "3   28   F  NORMAL        HIGH    7.798  drugX\n",
       "4   61   F     LOW        HIGH   18.043  drugY\n",
       "5   22   F  NORMAL        HIGH    8.607  drugX\n",
       "6   49   F  NORMAL        HIGH   16.275  drugY\n",
       "7   41   M     LOW        HIGH   11.037  drugC\n",
       "8   60   M  NORMAL        HIGH   15.171  drugY\n",
       "9   43   M     LOW      NORMAL   19.368  drugY"
      ]
     },
     "execution_count": 70,
     "metadata": {},
     "output_type": "execute_result"
    }
   ],
   "source": [
    "dataset.head(10)"
   ]
  },
  {
   "cell_type": "code",
   "execution_count": 71,
   "id": "e4251c1a-f347-4224-9613-7598e747736d",
   "metadata": {
    "tags": []
   },
   "outputs": [],
   "source": [
    "cols=[\"Age\",\"Na_to_K\"]\n",
    "dataset=dataset.drop(cols,axis=1)"
   ]
  },
  {
   "cell_type": "code",
   "execution_count": 72,
   "id": "9e159cc1-79bf-4f94-82c8-49321219381c",
   "metadata": {
    "tags": []
   },
   "outputs": [
    {
     "data": {
      "text/plain": [
       "Sex            200\n",
       "BP             200\n",
       "Cholesterol    200\n",
       "Drug           200\n",
       "dtype: int64"
      ]
     },
     "execution_count": 72,
     "metadata": {},
     "output_type": "execute_result"
    }
   ],
   "source": [
    "dataset.count()"
   ]
  },
  {
   "cell_type": "code",
   "execution_count": 73,
   "id": "757e82ea-711a-4d5c-8b47-9cddfee12146",
   "metadata": {
    "tags": []
   },
   "outputs": [
    {
     "data": {
      "text/html": [
       "<div>\n",
       "<style scoped>\n",
       "    .dataframe tbody tr th:only-of-type {\n",
       "        vertical-align: middle;\n",
       "    }\n",
       "\n",
       "    .dataframe tbody tr th {\n",
       "        vertical-align: top;\n",
       "    }\n",
       "\n",
       "    .dataframe thead th {\n",
       "        text-align: right;\n",
       "    }\n",
       "</style>\n",
       "<table border=\"1\" class=\"dataframe\">\n",
       "  <thead>\n",
       "    <tr style=\"text-align: right;\">\n",
       "      <th></th>\n",
       "      <th>Sex</th>\n",
       "      <th>BP</th>\n",
       "      <th>Cholesterol</th>\n",
       "      <th>Drug</th>\n",
       "    </tr>\n",
       "  </thead>\n",
       "  <tbody>\n",
       "    <tr>\n",
       "      <th>162</th>\n",
       "      <td>M</td>\n",
       "      <td>NORMAL</td>\n",
       "      <td>NORMAL</td>\n",
       "      <td>drugX</td>\n",
       "    </tr>\n",
       "    <tr>\n",
       "      <th>5</th>\n",
       "      <td>F</td>\n",
       "      <td>NORMAL</td>\n",
       "      <td>HIGH</td>\n",
       "      <td>drugX</td>\n",
       "    </tr>\n",
       "    <tr>\n",
       "      <th>91</th>\n",
       "      <td>M</td>\n",
       "      <td>HIGH</td>\n",
       "      <td>NORMAL</td>\n",
       "      <td>drugY</td>\n",
       "    </tr>\n",
       "    <tr>\n",
       "      <th>136</th>\n",
       "      <td>F</td>\n",
       "      <td>HIGH</td>\n",
       "      <td>HIGH</td>\n",
       "      <td>drugB</td>\n",
       "    </tr>\n",
       "    <tr>\n",
       "      <th>19</th>\n",
       "      <td>F</td>\n",
       "      <td>HIGH</td>\n",
       "      <td>NORMAL</td>\n",
       "      <td>drugY</td>\n",
       "    </tr>\n",
       "    <tr>\n",
       "      <th>121</th>\n",
       "      <td>M</td>\n",
       "      <td>HIGH</td>\n",
       "      <td>NORMAL</td>\n",
       "      <td>drugY</td>\n",
       "    </tr>\n",
       "    <tr>\n",
       "      <th>97</th>\n",
       "      <td>F</td>\n",
       "      <td>HIGH</td>\n",
       "      <td>HIGH</td>\n",
       "      <td>drugY</td>\n",
       "    </tr>\n",
       "    <tr>\n",
       "      <th>182</th>\n",
       "      <td>F</td>\n",
       "      <td>LOW</td>\n",
       "      <td>NORMAL</td>\n",
       "      <td>drugX</td>\n",
       "    </tr>\n",
       "    <tr>\n",
       "      <th>25</th>\n",
       "      <td>F</td>\n",
       "      <td>HIGH</td>\n",
       "      <td>NORMAL</td>\n",
       "      <td>drugY</td>\n",
       "    </tr>\n",
       "    <tr>\n",
       "      <th>17</th>\n",
       "      <td>M</td>\n",
       "      <td>HIGH</td>\n",
       "      <td>HIGH</td>\n",
       "      <td>drugA</td>\n",
       "    </tr>\n",
       "  </tbody>\n",
       "</table>\n",
       "</div>"
      ],
      "text/plain": [
       "    Sex      BP Cholesterol   Drug\n",
       "162   M  NORMAL      NORMAL  drugX\n",
       "5     F  NORMAL        HIGH  drugX\n",
       "91    M    HIGH      NORMAL  drugY\n",
       "136   F    HIGH        HIGH  drugB\n",
       "19    F    HIGH      NORMAL  drugY\n",
       "121   M    HIGH      NORMAL  drugY\n",
       "97    F    HIGH        HIGH  drugY\n",
       "182   F     LOW      NORMAL  drugX\n",
       "25    F    HIGH      NORMAL  drugY\n",
       "17    M    HIGH        HIGH  drugA"
      ]
     },
     "execution_count": 73,
     "metadata": {},
     "output_type": "execute_result"
    }
   ],
   "source": [
    "dataset.sample(10)"
   ]
  },
  {
   "cell_type": "code",
   "execution_count": null,
   "id": "9883896e-f586-4ef0-bcd8-11829d600b7c",
   "metadata": {
    "tags": []
   },
   "outputs": [],
   "source": []
  },
  {
   "cell_type": "code",
   "execution_count": 74,
   "id": "6629211f-6c2d-4f4a-8c96-758f58a55ddb",
   "metadata": {
    "tags": []
   },
   "outputs": [
    {
     "data": {
      "text/plain": [
       "Sex            0\n",
       "BP             0\n",
       "Cholesterol    0\n",
       "Drug           0\n",
       "dtype: int64"
      ]
     },
     "execution_count": 74,
     "metadata": {},
     "output_type": "execute_result"
    }
   ],
   "source": [
    "dataset.isnull().sum()"
   ]
  },
  {
   "cell_type": "code",
   "execution_count": 75,
   "id": "98636d98-9200-46f4-937c-88d1170da321",
   "metadata": {
    "tags": []
   },
   "outputs": [],
   "source": [
    "filtered_dataset = dataset[dataset['Drug'].isin(['drugX', 'drugY'])]\n"
   ]
  },
  {
   "cell_type": "code",
   "execution_count": 76,
   "id": "14877639-6fba-40a3-8f4d-b843087b6f38",
   "metadata": {
    "tags": []
   },
   "outputs": [
    {
     "data": {
      "text/plain": [
       "Sex            145\n",
       "BP             145\n",
       "Cholesterol    145\n",
       "Drug           145\n",
       "dtype: int64"
      ]
     },
     "execution_count": 76,
     "metadata": {},
     "output_type": "execute_result"
    }
   ],
   "source": [
    "filtered_dataset.count()"
   ]
  },
  {
   "cell_type": "code",
   "execution_count": 77,
   "id": "72ce31db-dd04-438d-9786-c75a5c91f75a",
   "metadata": {
    "tags": []
   },
   "outputs": [
    {
     "data": {
      "text/plain": [
       "array(['drugY', 'drugX'], dtype=object)"
      ]
     },
     "execution_count": 77,
     "metadata": {},
     "output_type": "execute_result"
    }
   ],
   "source": [
    "filtered_dataset.Drug.unique()"
   ]
  },
  {
   "cell_type": "markdown",
   "id": "9e80cb8e-aff5-4a98-ba0e-e0d890800460",
   "metadata": {},
   "source": [
    "**Lets use one hot encoding to change the categorical feature into numerical feature**"
   ]
  },
  {
   "cell_type": "code",
   "execution_count": 78,
   "id": "f575a798-5bd8-44c5-9f07-23b0aebb7b61",
   "metadata": {
    "tags": []
   },
   "outputs": [],
   "source": [
    "one_hot_encoding=OneHotEncoder()\n",
    "label_encoder=LabelEncoder()"
   ]
  },
  {
   "cell_type": "code",
   "execution_count": 79,
   "id": "2007355a-a94b-4cc2-bc8b-23161d1a0b5e",
   "metadata": {
    "tags": []
   },
   "outputs": [],
   "source": [
    "final_dataset=one_hot_encoding.fit_transform(filtered_dataset)"
   ]
  },
  {
   "cell_type": "code",
   "execution_count": 83,
   "id": "1b51d7ae-c137-46ad-bb1a-7130c825c36f",
   "metadata": {
    "tags": []
   },
   "outputs": [
    {
     "name": "stderr",
     "output_type": "stream",
     "text": [
      "/home/ishwor/anaconda3/envs/ml/lib/python3.9/site-packages/sklearn/preprocessing/_encoders.py:868: FutureWarning: `sparse` was renamed to `sparse_output` in version 1.2 and will be removed in 1.4. `sparse_output` is ignored unless you leave `sparse` to its default value.\n",
      "  warnings.warn(\n"
     ]
    }
   ],
   "source": [
    "\n",
    "label_encoder = LabelEncoder()\n",
    "y_train = label_encoder.fit_transform(filtered_dataset['Drug'])\n",
    "\n",
    "cols_for_ohe = [\"Sex\", \"BP\", \"Cholesterol\"]\n",
    "\n",
    "one_hot_encoder = OneHotEncoder(sparse=False)\n",
    "one_hot_encoded = one_hot_encoder.fit_transform(filtered_dataset[cols_for_ohe])\n",
    "\n"
   ]
  },
  {
   "cell_type": "code",
   "execution_count": 86,
   "id": "bc0e5782-8479-4aa7-89ab-4ee68ac3b2ff",
   "metadata": {
    "tags": []
   },
   "outputs": [],
   "source": [
    "X_train=one_hot_encoded"
   ]
  },
  {
   "cell_type": "code",
   "execution_count": 103,
   "id": "16a0365a-bcdf-4b7d-a66c-30f698d0bf28",
   "metadata": {
    "tags": []
   },
   "outputs": [],
   "source": [
    "def entropy(p):\n",
    "    if p == 0 or p == 1:\n",
    "        return 0\n",
    "    else:\n",
    "        return -p * np.log2(p) - (1- p)*np.log2(1 - p)\n",
    "    \n"
   ]
  },
  {
   "cell_type": "code",
   "execution_count": 104,
   "id": "0fecaa31-1ce2-454f-bf09-33e8750cf279",
   "metadata": {
    "tags": []
   },
   "outputs": [],
   "source": [
    "def split_indices(X,index_feature):\n",
    "    left_indices = []\n",
    "    right_indices = []\n",
    "    for i,x in enumerate(X):\n",
    "        if x[index_feature] == 1:\n",
    "            left_indices.append(i)\n",
    "        else:\n",
    "            right_indices.append(i)\n",
    "    return left_indices, right_indices\n",
    "    "
   ]
  },
  {
   "cell_type": "code",
   "execution_count": 113,
   "id": "584b253e-82d1-4264-afc1-c4b9001e9588",
   "metadata": {
    "tags": []
   },
   "outputs": [
    {
     "data": {
      "text/plain": [
       "([1,\n",
       "  3,\n",
       "  4,\n",
       "  5,\n",
       "  10,\n",
       "  15,\n",
       "  21,\n",
       "  24,\n",
       "  27,\n",
       "  28,\n",
       "  30,\n",
       "  31,\n",
       "  32,\n",
       "  33,\n",
       "  34,\n",
       "  35,\n",
       "  36,\n",
       "  37,\n",
       "  40,\n",
       "  44,\n",
       "  49,\n",
       "  50,\n",
       "  51,\n",
       "  53,\n",
       "  54,\n",
       "  55,\n",
       "  60,\n",
       "  61,\n",
       "  64,\n",
       "  65,\n",
       "  75,\n",
       "  78,\n",
       "  80,\n",
       "  81,\n",
       "  84,\n",
       "  86,\n",
       "  87,\n",
       "  89,\n",
       "  91,\n",
       "  92,\n",
       "  95,\n",
       "  97,\n",
       "  98,\n",
       "  101,\n",
       "  104,\n",
       "  107,\n",
       "  110,\n",
       "  115,\n",
       "  116,\n",
       "  121,\n",
       "  123,\n",
       "  125,\n",
       "  128,\n",
       "  129,\n",
       "  130,\n",
       "  132,\n",
       "  136,\n",
       "  142,\n",
       "  143],\n",
       " [0,\n",
       "  2,\n",
       "  6,\n",
       "  7,\n",
       "  8,\n",
       "  9,\n",
       "  11,\n",
       "  12,\n",
       "  13,\n",
       "  14,\n",
       "  16,\n",
       "  17,\n",
       "  18,\n",
       "  19,\n",
       "  20,\n",
       "  22,\n",
       "  23,\n",
       "  25,\n",
       "  26,\n",
       "  29,\n",
       "  38,\n",
       "  39,\n",
       "  41,\n",
       "  42,\n",
       "  43,\n",
       "  45,\n",
       "  46,\n",
       "  47,\n",
       "  48,\n",
       "  52,\n",
       "  56,\n",
       "  57,\n",
       "  58,\n",
       "  59,\n",
       "  62,\n",
       "  63,\n",
       "  66,\n",
       "  67,\n",
       "  68,\n",
       "  69,\n",
       "  70,\n",
       "  71,\n",
       "  72,\n",
       "  73,\n",
       "  74,\n",
       "  76,\n",
       "  77,\n",
       "  79,\n",
       "  82,\n",
       "  83,\n",
       "  85,\n",
       "  88,\n",
       "  90,\n",
       "  93,\n",
       "  94,\n",
       "  96,\n",
       "  99,\n",
       "  100,\n",
       "  102,\n",
       "  103,\n",
       "  105,\n",
       "  106,\n",
       "  108,\n",
       "  109,\n",
       "  111,\n",
       "  112,\n",
       "  113,\n",
       "  114,\n",
       "  117,\n",
       "  118,\n",
       "  119,\n",
       "  120,\n",
       "  122,\n",
       "  124,\n",
       "  126,\n",
       "  127,\n",
       "  131,\n",
       "  133,\n",
       "  134,\n",
       "  135,\n",
       "  137,\n",
       "  138,\n",
       "  139,\n",
       "  140,\n",
       "  141,\n",
       "  144])"
      ]
     },
     "execution_count": 113,
     "metadata": {},
     "output_type": "execute_result"
    }
   ],
   "source": [
    "split_indices(X_train, 4)"
   ]
  },
  {
   "cell_type": "code",
   "execution_count": 114,
   "id": "05059c36-9083-4ff2-9468-0add22550f54",
   "metadata": {
    "tags": []
   },
   "outputs": [],
   "source": [
    "def weighted_entropy(X,y,left_indices,right_indices):\n",
    "    \"\"\"\n",
    "    This function takes the splitted dataset, the indices we chose to split and returns the weighted entropy.\n",
    "    \"\"\"\n",
    "    w_left = len(left_indices)/len(X)\n",
    "    w_right = len(right_indices)/len(X)\n",
    "    p_left = sum(y[left_indices])/len(left_indices)\n",
    "    p_right = sum(y[right_indices])/len(right_indices)\n",
    "    \n",
    "    weighted_entropy = w_left * entropy(p_left) + w_right * entropy(p_right)\n",
    "    return weighted_entropy"
   ]
  },
  {
   "cell_type": "code",
   "execution_count": 115,
   "id": "932d981a-2f17-4da7-a4f4-0fbd8ab4bdc6",
   "metadata": {
    "tags": []
   },
   "outputs": [
    {
     "data": {
      "text/plain": [
       "0.952324152935568"
      ]
     },
     "execution_count": 115,
     "metadata": {},
     "output_type": "execute_result"
    }
   ],
   "source": [
    "left_indices, right_indices = split_indices(X_train, 0)\n",
    "weighted_entropy(X_train, y_train, left_indices, right_indices)"
   ]
  },
  {
   "cell_type": "code",
   "execution_count": 116,
   "id": "29ed6521-2454-475e-95dd-6e671f1a4c73",
   "metadata": {
    "tags": []
   },
   "outputs": [],
   "source": [
    "def information_gain(X, y, left_indices, right_indices):\n",
    "    \"\"\"\n",
    "    Here, X has the elements in the node and y is theirs respectives classes\n",
    "    \"\"\"\n",
    "    p_node = sum(y)/len(y)\n",
    "    h_node = entropy(p_node)\n",
    "    w_entropy = weighted_entropy(X,y,left_indices,right_indices)\n",
    "    return h_node - w_entropy\n"
   ]
  },
  {
   "cell_type": "code",
   "execution_count": 117,
   "id": "2f690420-7e3d-4b4a-b911-44fa38309212",
   "metadata": {
    "tags": []
   },
   "outputs": [
    {
     "data": {
      "text/plain": [
       "0.00018330001103084026"
      ]
     },
     "execution_count": 117,
     "metadata": {},
     "output_type": "execute_result"
    }
   ],
   "source": [
    "information_gain(X_train, y_train, left_indices, right_indices)"
   ]
  },
  {
   "cell_type": "code",
   "execution_count": null,
   "id": "90811ebc-15b0-48d3-8371-4efab44c2f3c",
   "metadata": {},
   "outputs": [],
   "source": []
  }
 ],
 "metadata": {
  "kernelspec": {
   "display_name": "Python 3 (ipykernel)",
   "language": "python",
   "name": "python3"
  },
  "language_info": {
   "codemirror_mode": {
    "name": "ipython",
    "version": 3
   },
   "file_extension": ".py",
   "mimetype": "text/x-python",
   "name": "python",
   "nbconvert_exporter": "python",
   "pygments_lexer": "ipython3",
   "version": "3.9.0"
  }
 },
 "nbformat": 4,
 "nbformat_minor": 5
}
