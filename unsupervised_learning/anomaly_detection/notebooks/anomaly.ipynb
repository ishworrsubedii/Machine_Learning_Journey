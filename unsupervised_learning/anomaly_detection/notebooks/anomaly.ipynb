{
 "cells": [
  {
   "metadata": {},
   "cell_type": "markdown",
   "source": [
    "# Anomaly Detection\n",
    "\n",
    "- Anomaly detection, or outlier detection, is the task of identifying instances that match the unexpected pattern in the data. We can take the example of credit card fraud detection, where we have to identify the fraud transaction from the normal transaction.\n",
    "\n",
    "\n",
    "\n",
    "- ![](https://res.cloudinary.com/engineering-com/image/upload/w_640,h_640,c_limit,q_auto,f_auto/anomaly_detection_example_ujoo9m.jpg)\n",
    "\n"
   ],
   "id": "c7c78cd3cfbce23"
  },
  {
   "metadata": {},
   "cell_type": "markdown",
   "source": [
    "# Density Estimation\n",
    "\n",
    "- Density estimation is one of the techniques used in anomaly detection.\n",
    "- Suppose we have a dataset of {x1,x2,x3,....xn} and we have to find the probability of the data point x.\n",
    "- We make a decision boundary, and if the data point lies inside the boundary, then it is normal; otherwise, it is an anomaly.\n",
    "\n"
   ],
   "id": "5341e8cfa089ce7e"
  },
  {
   "metadata": {},
   "cell_type": "markdown",
   "source": [
    "Let \\( A(x) \\) be a function that determines whether a data point is an anomaly or not, where \\( x \\) is the data point and \\( \\epsilon \\) is the threshold value.\n",
    "\n",
    "Then,\n",
    "\n",
    "\\[ A(x) = \n",
    "  \\begin{cases} \n",
    "   \\text{\"Anomaly\"} & \\text{if } x < \\epsilon \\\\\n",
    "   \\text{\"Normal\"} & \\text{if } x \\geq \\epsilon \n",
    "  \\end{cases}\n",
    "\\]\n",
    "\n",
    "This function \\( A(x) \\) takes a data point \\( x \\) as input and returns \"Anomaly\" if \\( x \\) is less than the threshold \\( \\epsilon \\), and \"Normal\" otherwise."
   ],
   "id": "4cff85c84e5a1f2c"
  },
  {
   "metadata": {},
   "cell_type": "markdown",
   "source": [
    "# Use Cases of Anomaly Detection\n",
    "\n",
    "- Fraud Detection\n",
    "- Manufacturing defects \n",
    "- Health Monitoring\n",
    "- Intrusion Detection\n",
    "- System Health Monitoring"
   ],
   "id": "6a2afb93cd835ba9"
  },
  {
   "metadata": {},
   "cell_type": "markdown",
   "source": [
    "There are many approaches for anomaly detection, here im focusing on the gaussian distribution based anomaly detection.\n",
    "\n",
    "# Gaussian /Normal Distribution\n",
    "- Propality of x is determinded by gaussian with mean mu and variance sigma^2\n",
    "- ![](https://cdn.clutchprep.com/core_topic_visuals/inline_images/5vZPHTfBTHyo0WkfhaGH_Screen%20Shot%202018-01-02%20at%205.37.48%20PM.png)\n",
    "- If we plot the f(x) then it will be bell shaped curve."
   ],
   "id": "aaeb4fb808efc290"
  },
  {
   "metadata": {},
   "cell_type": "markdown",
   "source": [
    "**Gaussian distribution examples on different values of mean and variance.**\n",
    "![](https://michael-franke.github.io/intro-data-analysis/I2DA_files/figure-html/ch-app-01-normal-distribution-density-1.png)"
   ],
   "id": "f61e9c2c0b1dc814"
  },
  {
   "metadata": {},
   "cell_type": "markdown",
   "source": "# Single Variable Gaussian Distribution",
   "id": "dac8fe76f5aafffd"
  },
  {
   "metadata": {},
   "cell_type": "markdown",
   "source": "## Paramerter Estimation",
   "id": "9e127e4ca3366d30"
  },
  {
   "metadata": {},
   "cell_type": "markdown",
   "source": [
    "\n",
    "Dataset : X = {x1,x2,x3,....xn}\n",
    "\n",
    "\n",
    "the equation for the mean is:\n",
    "\n",
    "$$\\mu_i = \\frac{1}{m} \\sum_{j=1}^m x_i^{(j)}$$\n",
    "\n",
    "and for the variance you will use:\n",
    "$$\\sigma_i^2 = \\frac{1}{m} \\sum_{j=1}^m (x_i^{(j)} - \\mu_i)^2$$\n",
    "\n",
    "   $$ p(x ; \\mu,\\sigma ^2) = \\frac{1}{\\sqrt{2 \\pi \\sigma ^2}}\\exp^{ - \\frac{(x - \\mu)^2}{2 \\sigma ^2} }$$\n",
    "\n",
    "   where $\\mu$ is the mean and $\\sigma^2$ is the variance.\n",
    "   \n",
    "\n",
    "Above equation of sigma and mu are also technically called as Maximum Likelihood Estimation."
   ],
   "id": "f7749e04a2d85469"
  },
  {
   "metadata": {},
   "cell_type": "markdown",
   "source": "# Multivariate Gaussian Distribution",
   "id": "74457f5a8afe5b17"
  },
  {
   "metadata": {},
   "cell_type": "markdown",
   "source": [
    "- Multiple Feature Density Estimation:\n",
    "- Training set: {multiple features}\n",
    "- Each feature has 'n' samples.\n",
    "\n",
    "We can calculate the probability of each feature's sample by using the following formula:\n",
    "\n",
    "$$ p(x)=p(x_1 ; \\mu_1,\\sigma_1 ^2) * p(x_2 ; \\mu_2,\\sigma_2 ^2) * p(x_3 ; \\mu_3,\\sigma_3 ^2) * p(x_4 ; \\mu_4,\\sigma_4 ^2) *....* p(x_n ; \\mu_n,\\sigma_n ^2)$$"
   ],
   "id": "3f5ed8a3c1907967"
  },
  {
   "metadata": {},
   "cell_type": "markdown",
   "source": [
    "We will multiply the pobability of each feature because\n",
    "- **Density Estimation Methods**: Methods like Gaussian Mixture Models (GMM) often assume that the features are independent of each other, similar to a class label.\n",
    "\n",
    "- **Product Rule of Probabilities**: When events are independent, the joint probability of these events occurring is calculated by multiplying their individual probabilities. This is also known as the product rule of probabilities.\n",
    "\n",
    "- **Example**: Suppose we have a probability of x1=1/10, and a probability of x2=1/10, then the joint probability of x1 and x2 is 1/10 * 1/10 = 1/100. That means if we look at the density estimation function, both of them mean the same, and while multiplying them, we are just calculating the joint probability of them."
   ],
   "id": "80c9e9faad2554b3"
  },
  {
   "metadata": {},
   "cell_type": "markdown",
   "source": [
    "# Anomaly detection algorithm \n",
    "- Choose n features x that you think might be indicative of anamolous example\n",
    "- Fit the parameters $\\mu_1, \\mu_2,....\\mu_n, \\sigma_1^2, \\sigma_2^2,....\\sigma_n^2$\n",
    "- The joint probability of a data point `x = (x1, x2, ..., xn)` is given by the product of the individual probabilities of each feature:\n",
    "\n",
    "\n",
    "$$ p(x) = \\prod_{i=1}^{n}  \\frac{1}{\\sqrt{2 \\pi \\sigma_i ^2}}\\exp^{ - \\frac{(x_i - \\mu_i)^2}{2 \\sigma_i ^2} } $$\n",
    "\n",
    "where:\n",
    "- The symbol `∏` represents the product of a sequence of expressions."
   ],
   "id": "10e608f4522085c9"
  },
  {
   "metadata": {},
   "cell_type": "markdown",
   "source": [
    "# Evaluation of the Anomaly Detection System\n",
    "\n",
    "- Evaluating anomaly detection methods involves using labeled data or anomalous data in validation sets.\n",
    "- For evaluation purposes, we will use data in a similar manner as we do in supervised learning, i.e., we will have a training set and a cross-validation set.\n",
    "- In the training set, a common approach is to include all the data from which we want to identify anomalies.\n",
    "- In the validation set, we will include the anomalous data. Then, we can perform the following metrics:\n",
    "- True Positive, False Positive, False Negative, and True Negative (i.e., Confusion Matrix)\n",
    "- Precision, Recall, and F1 Score"
   ],
   "id": "431c53e5a2de5c3e"
  },
  {
   "metadata": {},
   "cell_type": "markdown",
   "source": [
    "## When to Use Anomaly Detection\n",
    "\n",
    "- Anomaly detection is useful when we have a large number of normal data points and a very small number of anomalous data points.\n",
    "- We use anomaly detection when we need to predict or find outliers in unseen datasets or datasets that were not used during training.\n",
    "- Anomaly detection is also beneficial when we need to predict future data that might differ from the current data."
   ],
   "id": "e3922901eb4b8a37"
  },
  {
   "metadata": {},
   "cell_type": "markdown",
   "source": [
    "# Choosing what feature to use for anomaly detection while training the model.\n",
    "- Non gaussian features: If the features are not gaussian then we can use transformation like log, square root, cube root etc."
   ],
   "id": "d1dd91cf508bb664"
  },
  {
   "metadata": {},
   "cell_type": "markdown",
   "source": [
    "# Practical Implementation of Anomaly Detection\n",
    "[here](unsupervised_learning/anomaly_detection/notebooks/practical.ipynb)\n"
   ],
   "id": "487810559436454a"
  }
 ],
 "metadata": {
  "kernelspec": {
   "display_name": "Python 3",
   "language": "python",
   "name": "python3"
  },
  "language_info": {
   "codemirror_mode": {
    "name": "ipython",
    "version": 2
   },
   "file_extension": ".py",
   "mimetype": "text/x-python",
   "name": "python",
   "nbconvert_exporter": "python",
   "pygments_lexer": "ipython2",
   "version": "2.7.6"
  }
 },
 "nbformat": 4,
 "nbformat_minor": 5
}
